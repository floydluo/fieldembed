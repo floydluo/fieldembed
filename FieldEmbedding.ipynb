{
 "cells": [
  {
   "cell_type": "code",
   "execution_count": 1,
   "metadata": {},
   "outputs": [],
   "source": [
    "# from evals import *\n",
    "from evals import get_similarity_score\n",
    "from datetime import datetime\n",
    "\n",
    "# python setup.py build_ext --inplace"
   ]
  },
  {
   "cell_type": "code",
   "execution_count": 2,
   "metadata": {},
   "outputs": [],
   "source": [
    "from fieldembed.models.word2vec import Word2Vec, LineSentence\n",
    "\n",
    "Little_Wiki_Path = 'corpus/wiki/wiki.txt'\n",
    "Total_Wiki_Path = 'corpus/WikiTotal/WikiTotal7k_v2.txt'\n",
    "\n",
    "data_input = LineSentence(Little_Wiki_Path)\n",
    "data_input = LineSentence(Total_Wiki_Path)\n"
   ]
  },
  {
   "cell_type": "code",
   "execution_count": 3,
   "metadata": {},
   "outputs": [
    {
     "name": "stdout",
     "output_type": "stream",
     "text": [
      "2019-05-09 17:09:39.518571\n",
      "2019-05-09 17:20:20.246652\n",
      "0:10:40.728081\n"
     ]
    }
   ],
   "source": [
    "\n",
    "start = datetime.now()\n",
    "\n",
    "print(start)\n",
    "sg_model = Word2Vec(data_input, size = 200, alpha = 0.025,  min_count = 10, sg = 1, iter=1, workers = 6)\n",
    "end = datetime.now()\n",
    "time = end - start\n",
    "\n",
    "print(end)\n",
    "print(time)"
   ]
  },
  {
   "cell_type": "code",
   "execution_count": 4,
   "metadata": {},
   "outputs": [
    {
     "name": "stdout",
     "output_type": "stream",
     "text": [
      "228 / 240  word pairs appeared in the training dictionary\n",
      "sources/240.txt : SpearmanrResult(correlation=0.5060835560456288, pvalue=3.1232282696881405e-16)\n"
     ]
    }
   ],
   "source": [
    "sim_file = 'sources/240.txt'\n",
    "get_similarity_score(sim_file, token_embedding = sg_model.wv)"
   ]
  },
  {
   "cell_type": "code",
   "execution_count": 5,
   "metadata": {},
   "outputs": [
    {
     "name": "stdout",
     "output_type": "stream",
     "text": [
      "279 / 297  word pairs appeared in the training dictionary\n",
      "sources/297.txt : SpearmanrResult(correlation=0.5956205851718829, pvalue=3.5366130312586746e-28)\n"
     ]
    }
   ],
   "source": [
    "sim_file = 'sources/297.txt'\n",
    "get_similarity_score(sim_file, token_embedding = sg_model.wv)"
   ]
  },
  {
   "cell_type": "code",
   "execution_count": 6,
   "metadata": {},
   "outputs": [
    {
     "name": "stdout",
     "output_type": "stream",
     "text": [
      "2019-05-09 17:20:20.318041\n",
      "2019-05-09 17:25:36.224856\n",
      "0:05:15.906815\n"
     ]
    }
   ],
   "source": [
    "start = datetime.now()\n",
    "print(start)\n",
    "\n",
    "cb_model = Word2Vec(data_input, size = 200, alpha = 0.025,  min_count = 10, sg = 0, iter=1, workers = 6)\n",
    "end = datetime.now()\n",
    "\n",
    "time = end - start\n",
    "\n",
    "print(end)\n",
    "print(time)"
   ]
  },
  {
   "cell_type": "code",
   "execution_count": 7,
   "metadata": {},
   "outputs": [
    {
     "name": "stdout",
     "output_type": "stream",
     "text": [
      "228 / 240  word pairs appeared in the training dictionary\n",
      "sources/240.txt : SpearmanrResult(correlation=0.4688663629661517, pvalue=7.309159870624104e-14)\n"
     ]
    }
   ],
   "source": [
    "sim_file = 'sources/240.txt'\n",
    "get_similarity_score(sim_file, token_embedding = cb_model.wv)"
   ]
  },
  {
   "cell_type": "code",
   "execution_count": 8,
   "metadata": {},
   "outputs": [
    {
     "name": "stdout",
     "output_type": "stream",
     "text": [
      "279 / 297  word pairs appeared in the training dictionary\n",
      "sources/297.txt : SpearmanrResult(correlation=0.596755809947912, pvalue=2.639115262602643e-28)\n"
     ]
    }
   ],
   "source": [
    "sim_file = 'sources/297.txt'\n",
    "get_similarity_score(sim_file, token_embedding = cb_model.wv)"
   ]
  },
  {
   "cell_type": "code",
   "execution_count": 9,
   "metadata": {},
   "outputs": [
    {
     "data": {
      "text/plain": [
       "[('经济系', 0.8267998695373535),\n",
       " ('法学院', 0.8190433979034424),\n",
       " ('经济学系', 0.8046635985374451),\n",
       " ('医学院', 0.8035023212432861),\n",
       " ('法律系', 0.8008086681365967),\n",
       " ('商学院', 0.7982054948806763),\n",
       " ('数学系', 0.7951687574386597),\n",
       " ('化学系', 0.7927868366241455),\n",
       " ('心理学系', 0.7914741039276123),\n",
       " ('理工学院', 0.7890897989273071)]"
      ]
     },
     "execution_count": 9,
     "metadata": {},
     "output_type": "execute_result"
    }
   ],
   "source": [
    "sg_model.wv.most_similar('大学')"
   ]
  },
  {
   "cell_type": "code",
   "execution_count": 10,
   "metadata": {},
   "outputs": [
    {
     "data": {
      "text/plain": [
       "[('法学院', 0.7415156364440918),\n",
       " ('学院', 0.7087984085083008),\n",
       " ('理工大学', 0.700273871421814),\n",
       " ('理工学院', 0.685100257396698),\n",
       " ('清华大学', 0.6798491477966309),\n",
       " ('理工', 0.6744463443756104),\n",
       " ('医学院', 0.6686984300613403),\n",
       " ('中山大学', 0.6601865887641907),\n",
       " ('师范大学', 0.6580823659896851),\n",
       " ('北京大学', 0.6518272161483765)]"
      ]
     },
     "execution_count": 10,
     "metadata": {},
     "output_type": "execute_result"
    }
   ],
   "source": [
    "cb_model.wv.most_similar('大学')"
   ]
  }
 ],
 "metadata": {
  "kernelspec": {
   "display_name": "Python 3",
   "language": "python",
   "name": "python3"
  },
  "language_info": {
   "codemirror_mode": {
    "name": "ipython",
    "version": 3
   },
   "file_extension": ".py",
   "mimetype": "text/x-python",
   "name": "python",
   "nbconvert_exporter": "python",
   "pygments_lexer": "ipython3",
   "version": "3.7.0"
  }
 },
 "nbformat": 4,
 "nbformat_minor": 2
}
