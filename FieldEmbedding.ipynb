{
 "cells": [
  {
   "cell_type": "code",
   "execution_count": 1,
   "metadata": {},
   "outputs": [],
   "source": [
    "# from evals import *\n",
    "from evals import get_similarity_score\n",
    "from datetime import datetime\n",
    "\n",
    "# python setup.py build_ext --inplace"
   ]
  },
  {
   "cell_type": "code",
   "execution_count": 2,
   "metadata": {},
   "outputs": [],
   "source": [
    "from fieldembed.models.word2vec import Word2Vec, LineSentence\n",
    "\n",
    "Little_Wiki_Path = 'corpus/wiki/wiki.txt'\n",
    "Total_Wiki_Path = 'corpus/WikiTotal/WikiTotal7k_v2.txt'\n",
    "\n",
    "data_input = LineSentence(Little_Wiki_Path)\n",
    "data_input = LineSentence(Total_Wiki_Path)\n"
   ]
  },
  {
   "cell_type": "code",
   "execution_count": 3,
   "metadata": {},
   "outputs": [
    {
     "name": "stdout",
     "output_type": "stream",
     "text": [
      "2019-05-09 22:20:59.795568\n",
      "2019-05-09 22:31:00.193534\n",
      "0:10:00.397966\n"
     ]
    }
   ],
   "source": [
    "start = datetime.now()\n",
    "\n",
    "print(start)\n",
    "sg_model = Word2Vec(data_input, size = 200, alpha = 0.025,  min_count = 10, sg = 1, iter=1, workers = 8)\n",
    "end = datetime.now()\n",
    "time = end - start\n",
    "\n",
    "print(end)\n",
    "print(time)"
   ]
  },
  {
   "cell_type": "code",
   "execution_count": 4,
   "metadata": {},
   "outputs": [
    {
     "data": {
      "text/plain": [
       "'这'"
      ]
     },
     "execution_count": 4,
     "metadata": {},
     "output_type": "execute_result"
    }
   ],
   "source": [
    "sg_model.wv.index2entity[48]"
   ]
  },
  {
   "cell_type": "code",
   "execution_count": 5,
   "metadata": {},
   "outputs": [
    {
     "name": "stdout",
     "output_type": "stream",
     "text": [
      "228 / 240  word pairs appeared in the training dictionary\n",
      "sources/240.txt : SpearmanrResult(correlation=0.49701682348321996, pvalue=1.254771634820278e-15)\n"
     ]
    }
   ],
   "source": [
    "sim_file = 'sources/240.txt'\n",
    "get_similarity_score(sim_file, token_embedding = sg_model.wv)"
   ]
  },
  {
   "cell_type": "code",
   "execution_count": 6,
   "metadata": {},
   "outputs": [
    {
     "name": "stdout",
     "output_type": "stream",
     "text": [
      "279 / 297  word pairs appeared in the training dictionary\n",
      "sources/297.txt : SpearmanrResult(correlation=0.5882289722385574, pvalue=2.3129182099356567e-27)\n"
     ]
    }
   ],
   "source": [
    "sim_file = 'sources/297.txt'\n",
    "get_similarity_score(sim_file, token_embedding = sg_model.wv)"
   ]
  },
  {
   "cell_type": "code",
   "execution_count": 7,
   "metadata": {},
   "outputs": [
    {
     "name": "stdout",
     "output_type": "stream",
     "text": [
      "2019-05-09 22:31:00.260133\n",
      "2019-05-09 22:36:19.736327\n",
      "0:05:19.476194\n"
     ]
    }
   ],
   "source": [
    "start = datetime.now()\n",
    "print(start)\n",
    "\n",
    "cb_model = Word2Vec(data_input, size = 200, alpha = 0.025,  min_count = 10, sg = 0, iter=1, workers = 6)\n",
    "end = datetime.now()\n",
    "\n",
    "time = end - start\n",
    "\n",
    "print(end)\n",
    "print(time)"
   ]
  },
  {
   "cell_type": "code",
   "execution_count": 8,
   "metadata": {},
   "outputs": [
    {
     "name": "stdout",
     "output_type": "stream",
     "text": [
      "228 / 240  word pairs appeared in the training dictionary\n",
      "sources/240.txt : SpearmanrResult(correlation=0.4774531545788054, pvalue=2.200121085344858e-14)\n"
     ]
    }
   ],
   "source": [
    "sim_file = 'sources/240.txt'\n",
    "get_similarity_score(sim_file, token_embedding = cb_model.wv)"
   ]
  },
  {
   "cell_type": "code",
   "execution_count": 9,
   "metadata": {},
   "outputs": [
    {
     "name": "stdout",
     "output_type": "stream",
     "text": [
      "279 / 297  word pairs appeared in the training dictionary\n",
      "sources/297.txt : SpearmanrResult(correlation=0.5921701538679579, pvalue=8.548901048636254e-28)\n"
     ]
    }
   ],
   "source": [
    "sim_file = 'sources/297.txt'\n",
    "get_similarity_score(sim_file, token_embedding = cb_model.wv)"
   ]
  },
  {
   "cell_type": "code",
   "execution_count": 10,
   "metadata": {},
   "outputs": [
    {
     "data": {
      "text/plain": [
       "[('法学院', 0.8227376937866211),\n",
       " ('经济学系', 0.8092598915100098),\n",
       " ('经济系', 0.8091179132461548),\n",
       " ('理工学院', 0.8065043687820435),\n",
       " ('医学院', 0.8036636114120483),\n",
       " ('客座教授', 0.8012546300888062),\n",
       " ('商学院', 0.7954702377319336),\n",
       " ('社会学系', 0.7869231104850769),\n",
       " ('法律系', 0.7846425771713257),\n",
       " ('分校', 0.7845264673233032)]"
      ]
     },
     "execution_count": 10,
     "metadata": {},
     "output_type": "execute_result"
    }
   ],
   "source": [
    "sg_model.wv.most_similar('大学')"
   ]
  },
  {
   "cell_type": "code",
   "execution_count": 11,
   "metadata": {},
   "outputs": [
    {
     "data": {
      "text/plain": [
       "[('理工学院', 0.7359874248504639),\n",
       " ('法学院', 0.7216053605079651),\n",
       " ('学院', 0.7204011678695679),\n",
       " ('理工大学', 0.6977335214614868),\n",
       " ('清华大学', 0.6899456977844238),\n",
       " ('理工', 0.6885042786598206),\n",
       " ('医学院', 0.6860630512237549),\n",
       " ('中山大学', 0.6838465332984924),\n",
       " ('商学院', 0.6680729389190674),\n",
       " ('师范大学', 0.6666254997253418)]"
      ]
     },
     "execution_count": 11,
     "metadata": {},
     "output_type": "execute_result"
    }
   ],
   "source": [
    "cb_model.wv.most_similar('大学')"
   ]
  }
 ],
 "metadata": {
  "kernelspec": {
   "display_name": "Python 3",
   "language": "python",
   "name": "python3"
  },
  "language_info": {
   "codemirror_mode": {
    "name": "ipython",
    "version": 3
   },
   "file_extension": ".py",
   "mimetype": "text/x-python",
   "name": "python",
   "nbconvert_exporter": "python",
   "pygments_lexer": "ipython3",
   "version": "3.7.0"
  }
 },
 "nbformat": 4,
 "nbformat_minor": 2
}
