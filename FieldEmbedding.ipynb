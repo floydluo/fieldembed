{
 "cells": [
  {
   "cell_type": "code",
   "execution_count": 1,
   "metadata": {},
   "outputs": [],
   "source": [
    "# from evals import *\n",
    "from evals import get_similarity_score\n",
    "from datetime import datetime"
   ]
  },
  {
   "cell_type": "code",
   "execution_count": 2,
   "metadata": {},
   "outputs": [
    {
     "name": "stdout",
     "output_type": "stream",
     "text": [
      "2019-05-09 14:29:22.951640\n",
      "2019-05-09 14:40:15.957341\n",
      "0:10:53.005701\n"
     ]
    }
   ],
   "source": [
    "from fieldembed.gensim.models.word2vec import Word2Vec, LineSentence\n",
    "\n",
    "\n",
    "print(start)\n",
    "start = datetime.now()\n",
    "data_input = LineSentence('corpus/WikiTotal/WikiTotal7k_v2.txt')\n",
    "\n",
    "sn_model = Word2Vec(data_input, size = 200, alpha = 0.025,  min_count = 10, sg = 1, iter=1, workers = 6)\n",
    "\n",
    "end = datetime.now()\n",
    "\n",
    "time = end - start\n",
    "\n",
    "print(end)\n",
    "print(time)"
   ]
  },
  {
   "cell_type": "code",
   "execution_count": 3,
   "metadata": {},
   "outputs": [
    {
     "name": "stdout",
     "output_type": "stream",
     "text": [
      "228 / 240  word pairs appeared in the training dictionary\n",
      "sources/240.txt : SpearmanrResult(correlation=0.5077304420261701, pvalue=2.415266036681941e-16)\n"
     ]
    }
   ],
   "source": [
    "sim_file = 'sources/240.txt'\n",
    "get_similarity_score(sim_file, token_embedding = sn_model.wv)"
   ]
  },
  {
   "cell_type": "code",
   "execution_count": 4,
   "metadata": {},
   "outputs": [
    {
     "name": "stdout",
     "output_type": "stream",
     "text": [
      "279 / 297  word pairs appeared in the training dictionary\n",
      "sources/297.txt : SpearmanrResult(correlation=0.5882950025826779, pvalue=2.2749243561660023e-27)\n"
     ]
    }
   ],
   "source": [
    "sim_file = 'sources/297.txt'\n",
    "get_similarity_score(sim_file, token_embedding = sn_model.wv)"
   ]
  },
  {
   "cell_type": "code",
   "execution_count": 5,
   "metadata": {},
   "outputs": [
    {
     "name": "stdout",
     "output_type": "stream",
     "text": [
      "2019-05-09 14:40:16.011691\n",
      "2019-05-09 14:45:37.663371\n",
      "0:05:21.651680\n"
     ]
    }
   ],
   "source": [
    "start = datetime.now()\n",
    "print(start)\n",
    "cb_model = Word2Vec(data_input, size = 200, alpha = 0.025,  min_count = 10, sg = 0, iter=1, workers = 6)\n",
    "end = datetime.now()\n",
    "\n",
    "time = end - start\n",
    "\n",
    "print(end)\n",
    "print(time)"
   ]
  },
  {
   "cell_type": "code",
   "execution_count": 6,
   "metadata": {},
   "outputs": [
    {
     "name": "stdout",
     "output_type": "stream",
     "text": [
      "228 / 240  word pairs appeared in the training dictionary\n",
      "sources/240.txt : SpearmanrResult(correlation=0.4771883770295207, pvalue=2.2842497912947096e-14)\n"
     ]
    }
   ],
   "source": [
    "sim_file = 'sources/240.txt'\n",
    "get_similarity_score(sim_file, token_embedding = cb_model.wv)"
   ]
  },
  {
   "cell_type": "code",
   "execution_count": 8,
   "metadata": {},
   "outputs": [
    {
     "name": "stdout",
     "output_type": "stream",
     "text": [
      "279 / 297  word pairs appeared in the training dictionary\n",
      "sources/297.txt : SpearmanrResult(correlation=0.5882950025826779, pvalue=2.2749243561660023e-27)\n"
     ]
    }
   ],
   "source": [
    "sim_file = 'sources/297.txt'\n",
    "get_similarity_score(sim_file, token_embedding = sn_model.wv)"
   ]
  }
 ],
 "metadata": {
  "kernelspec": {
   "display_name": "Python 3",
   "language": "python",
   "name": "python3"
  },
  "language_info": {
   "codemirror_mode": {
    "name": "ipython",
    "version": 3
   },
   "file_extension": ".py",
   "mimetype": "text/x-python",
   "name": "python",
   "nbconvert_exporter": "python",
   "pygments_lexer": "ipython3",
   "version": "3.7.0"
  }
 },
 "nbformat": 4,
 "nbformat_minor": 2
}
