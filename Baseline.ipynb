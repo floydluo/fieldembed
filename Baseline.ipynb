{
 "cells": [
  {
   "cell_type": "code",
   "execution_count": 4,
   "metadata": {
    "ExecuteTime": {
     "end_time": "2019-08-22T04:09:30.159130Z",
     "start_time": "2019-08-22T04:09:30.149922Z"
    }
   },
   "outputs": [],
   "source": [
    "import os\n",
    "\n",
    "\n",
    "def dict2list(paramdict):\n",
    "    resultlist = []\n",
    "    for k, v in paramdict.items():\n",
    "        resultlist.append(k)\n",
    "        if v: resultlist.append(str(v))\n",
    "    return resultlist\n",
    "\n",
    "def shell_invoke(args, sinput = None, soutput = None):\n",
    "    import subprocess\n",
    "    if sinput and soutput:\n",
    "        p = subprocess.Popen(args, stdin = sinput, stdout= soutput)\n",
    "    elif sinput:\n",
    "        p = subprocess.Popen(args, stdin=sinput, stdout=subprocess.PIPE)\n",
    "    elif soutput:\n",
    "        p = subprocess.Popen(args, stdin=subprocess.PIPE, stdout=soutput)\n",
    "    else:\n",
    "        p = subprocess.Popen(args, stdin=subprocess.PIPE, stdout=subprocess.PIPE)\n",
    "    result = p.communicate()\n",
    "    for robj in result:\n",
    "        if robj:\n",
    "            print(robj.decode(console_encoding))\n",
    "    return None"
   ]
  },
  {
   "cell_type": "code",
   "execution_count": 3,
   "metadata": {
    "ExecuteTime": {
     "end_time": "2019-08-22T04:07:14.741260Z",
     "start_time": "2019-08-22T04:07:14.726818Z"
    }
   },
   "outputs": [],
   "source": [
    "\n",
    "\n",
    "def generate_para(name, Data_Dir, sg, iter, window, negative, alpha, sample, workers, size, min_count = 10):\n",
    "    \n",
    "    LearnPathDict = {\n",
    "        'word2vec': './baseline/word2vec/word2vec',\n",
    "        'cwe': './baseline/cwe/src/cwe ',\n",
    "        'jwe': './baseline/jwe/src/jwe',\n",
    "    }\n",
    "    \n",
    "    learn_path = LearnPathDict[name]\n",
    "    paras = {}\n",
    "    sg_or_cb = 'sg' if sg else 'cb'; paras['-cbow'] = 0 if sg else 1\n",
    "    ep  = 'it' + str(iter);          paras['-iter'] = iter\n",
    "    w   = 'w'  + str(window);        paras['-window'] = window\n",
    "    neg = 'ng' + str(negative);      paras['-negative'] = negative\n",
    "    thr = 'th' + str(workers);       paras['-threads'] = workers\n",
    "    smp = 'smp'+ str(sample);        paras['-sample'] = sample\n",
    "    alp = 'lr' + str(alpha);         paras['-alpha'] = alpha\n",
    "    nsexp = 'nsexp' + str(0.75)\n",
    "    hppara = '-'.join([sg_or_cb, ep, w, neg, alp, smp, nsexp, thr,])\n",
    "    # print(hppara)\n",
    "    paras['-train']  = os.path.join(Data_Dir, 'Pyramid/_file/token.txt')\n",
    "    Path = os.path.join(Data_Dir.replace('data', 'embeddings/baseline'), name, hppara)\n",
    "    if not os.path.exists(Path): os.makedirs(Path)\n",
    "        \n",
    "    if name == 'word2vec':\n",
    "        paras['-output'] = os.path.join(Path, 'word' + str(size))\n",
    "        \n",
    "    elif name == 'cwe':\n",
    "        paras['-output-word'] = os.path.join(Path, 'word' + str(size))\n",
    "        paras['-output-char'] = os.path.join(Path, 'char' + str(size))\n",
    "        paras['-cwe-type'] = 1\n",
    "        \n",
    "    elif name =='jwe':\n",
    "        paras['-output-word'] = os.path.join(Path, 'word' + str(size))\n",
    "        paras['-output-char'] = os.path.join(Path, 'char' + str(size))\n",
    "        paras['-output-comp'] = os.path.join(Path, 'comp' + str(size))\n",
    "        paras['-comp'] = './baseline/jwe/subcharacter/comp.txt'\n",
    "        paras['-char2comp'] = './jwe/subcharacter/char2comp.txt'\n",
    "        paras['-join-type'] = 1\n",
    "        paras['-pos-type'] = 1\n",
    "        paras['-average-sum'] = 1\n",
    "    \n",
    "    # print(paras['-output'])\n",
    "    paras['-size'] = size\n",
    "    paras['-min-count'] = min_count\n",
    "    return learn_path, paras\n",
    "\n",
    "def run_baseline_w2v(learn_path, paras):\n",
    "    part_args = []\n",
    "    if paras:\n",
    "        part_args += dict2list(paras)\n",
    "    shell_invoke([learn_path] + part_args)\n"
   ]
  },
  {
   "cell_type": "code",
   "execution_count": 2,
   "metadata": {
    "ExecuteTime": {
     "end_time": "2019-08-22T03:55:53.333770Z",
     "start_time": "2019-08-22T03:55:53.325421Z"
    }
   },
   "outputs": [],
   "source": [
    "Data_Dir = 'data/WikiChinese/word/'\n",
    "min_count = 10\n",
    "names = ['word2vec', 'cwe', 'jwe']\n",
    "for name in names:\n",
    "    sg = 0 # use cbow or use sg\n",
    "    iter = 5 # epoch number\n",
    "    window = 5\n",
    "    negative = 10\n",
    "    alpha = 0.025\n",
    "    sample = 1e-3\n",
    "    workers = 4\n",
    "    size = 200\n",
    "    compute_loss = True\n",
    "    learn_path, paras = generate_para(name, Data_Dir, sg, iter, window, negative, alpha, sample, workers,size,  min_count = min_count)\n",
    "    print(learn_path, paras)\n",
    "    run_baseline_w2v(learn_path, paras)"
   ]
  },
  {
   "cell_type": "code",
   "execution_count": null,
   "metadata": {},
   "outputs": [],
   "source": []
  }
 ],
 "metadata": {
  "kernelspec": {
   "display_name": "Python 3",
   "language": "python",
   "name": "python3"
  },
  "language_info": {
   "codemirror_mode": {
    "name": "ipython",
    "version": 3
   },
   "file_extension": ".py",
   "mimetype": "text/x-python",
   "name": "python",
   "nbconvert_exporter": "python",
   "pygments_lexer": "ipython3",
   "version": "3.7.3"
  },
  "toc": {
   "base_numbering": 1,
   "nav_menu": {},
   "number_sections": true,
   "sideBar": true,
   "skip_h1_title": false,
   "title_cell": "Table of Contents",
   "title_sidebar": "Contents",
   "toc_cell": false,
   "toc_position": {},
   "toc_section_display": true,
   "toc_window_display": false
  }
 },
 "nbformat": 4,
 "nbformat_minor": 2
}
