{
 "cells": [
  {
   "cell_type": "markdown",
   "metadata": {},
   "source": [
    "# Eval Word Embedding for Chinese Wiki"
   ]
  },
  {
   "cell_type": "markdown",
   "metadata": {},
   "source": [
    "## Lexical Evals"
   ]
  },
  {
   "cell_type": "code",
   "execution_count": 2,
   "metadata": {
    "ExecuteTime": {
     "end_time": "2019-08-21T07:58:21.831124Z",
     "start_time": "2019-08-21T07:57:27.852549Z"
    }
   },
   "outputs": [
    {
     "name": "stderr",
     "output_type": "stream",
     "text": [
      "WARNING:smart_open.smart_open_lib:this function is deprecated, use smart_open.open instead\n"
     ]
    },
    {
     "name": "stdout",
     "output_type": "stream",
     "text": [
      "390106 200\n",
      "\n"
     ]
    }
   ],
   "source": [
    "from fieldembed.keyedvectors import KeyedVectors\n",
    "wv_neg = KeyedVectors.load_word2vec_format('embeddings/word2vec/word_vec_cb')"
   ]
  },
  {
   "cell_type": "code",
   "execution_count": 3,
   "metadata": {
    "ExecuteTime": {
     "end_time": "2019-08-21T07:59:01.706430Z",
     "start_time": "2019-08-21T07:58:42.250295Z"
    }
   },
   "outputs": [
    {
     "name": "stderr",
     "output_type": "stream",
     "text": [
      "WARNING:smart_open.smart_open_lib:this function is deprecated, use smart_open.open instead\n",
      "WARNING:smart_open.smart_open_lib:this function is deprecated, use smart_open.open instead\n",
      "WARNING:smart_open.smart_open_lib:this function is deprecated, use smart_open.open instead\n"
     ]
    },
    {
     "data": {
      "text/plain": [
       "{'sim240_spearman': 0.5450100615852266,\n",
       " 'sim297_spearman': 0.5854600845729826,\n",
       " 'ana_capital-common-countries': 0.8656126482213439,\n",
       " 'ana_city-in-state': 0.88,\n",
       " 'ana_family': 0.6397058823529411,\n",
       " 'ana_Total accuracy': 0.8037775445960126}"
      ]
     },
     "execution_count": 3,
     "metadata": {},
     "output_type": "execute_result"
    }
   ],
   "source": [
    "wv_neg.lexical_evals()"
   ]
  },
  {
   "cell_type": "markdown",
   "metadata": {},
   "source": [
    "## Text CLS by Fudan Corpus"
   ]
  },
  {
   "cell_type": "code",
   "execution_count": 82,
   "metadata": {
    "ExecuteTime": {
     "end_time": "2019-08-22T01:21:37.569318Z",
     "start_time": "2019-08-22T01:21:37.346094Z"
    }
   },
   "outputs": [
    {
     "name": "stdout",
     "output_type": "stream",
     "text": [
      "CORPUS\tread from pickle file : data/fudan/word/Pyramid/CORPUS.p\n",
      "CORPUS\tthe length of it is   : 1\n",
      "GROUP\tread from pickle file : data/fudan/word/Pyramid/GROUP.p\n",
      "GROUP\tthe length of it is   : 5\n",
      "TEXT\tread from pickle file : data/fudan/word/Pyramid/TEXT.p\n",
      "TEXT\tthe length of it is   : 5885\n",
      "SENT\tread from pickle file : data/fudan/word/Pyramid/SENT.p\n",
      "SENT\tthe length of it is   : 5885\n",
      "TOKEN\tread from pickle file : data/fudan/word/Pyramid/TOKEN.p\n",
      "TOKEN\tthe length of it is   : 17252831\n",
      "**************************************** \n",
      "\n"
     ]
    }
   ],
   "source": [
    "from nlptext.sentence import Sentence\n",
    "from nlptext.base import BasicObject\n",
    "import numpy as np\n",
    "\n",
    "\n",
    "Data_Dir = 'data/fudan/word/'\n",
    "BasicObject.INIT_FROM_PICKLE(Data_Dir)\n",
    "nlptext = BasicObject\n",
    "\n",
    "\n",
    "def getsent2matrix(sent, wv):\n",
    "    token_strs = [i[0] for i in sent.get_grain_str('token')]\n",
    "    wv = wv.derivative_wv\n",
    "    wv.set_GU_and_TU()\n",
    "    TU = wv.TU # LGU in derivative wv is LTU\n",
    "    if TU is None:\n",
    "        TU = wv.GU\n",
    "    # this code is verbose\n",
    "    # TODO: how to deal with unk tokens\n",
    "    token_idxes = [TU[1].get(token_str) for token_str in token_strs if token_str in TU[1]] # 0 is not unk, to fix it in the future\n",
    "    # token_idxes = [i[0] for i in token_idxes]\n",
    "    # print(token_idxes)\n",
    "    # print(token_idxes)\n",
    "    matrix = wv.vectors[token_idxes]\n",
    "    return matrix\n",
    "\n",
    "def convert_document_to_X_and_Y(nlptext, wv):\n",
    "    doc_num = nlptext.SENT['length']\n",
    "    \n",
    "    docmatrix = np.zeros((doc_num, wv.vector_size))\n",
    "    labels = np.zeros(doc_num, dtype = int)\n",
    "    \n",
    "    for sentidx in range(doc_num):\n",
    "        sent = Sentence(sentidx)\n",
    "        matrix = getsent2matrix(sent, wv)\n",
    "        # matrix.append(sent)\n",
    "        docvector = np.mean(matrix, axis = 0)\n",
    "        docmatrix[sentidx] = docvector\n",
    "        labels[sentidx] = sent.IdxGroup\n",
    "    return docmatrix, labels"
   ]
  },
  {
   "cell_type": "code",
   "execution_count": 28,
   "metadata": {
    "ExecuteTime": {
     "end_time": "2019-08-21T08:30:05.222038Z",
     "start_time": "2019-08-21T08:29:48.182834Z"
    }
   },
   "outputs": [
    {
     "name": "stdout",
     "output_type": "stream",
     "text": [
      "(5885, 200)\n",
      "(5885,)\n"
     ]
    }
   ],
   "source": [
    "docmatrix, labels = convert_document_to_X_and_Y(nlptext, wv_neg)\n",
    "X = docmatrix\n",
    "Y = labels\n",
    "\n",
    "print(X.shape)\n",
    "print(Y.shape)"
   ]
  },
  {
   "cell_type": "code",
   "execution_count": 54,
   "metadata": {
    "ExecuteTime": {
     "end_time": "2019-08-21T08:46:24.910231Z",
     "start_time": "2019-08-21T08:46:16.918649Z"
    }
   },
   "outputs": [
    {
     "name": "stdout",
     "output_type": "stream",
     "text": [
      "SVC(C=10.0, cache_size=200, class_weight=None, coef0=0.0,\n",
      "    decision_function_shape=None, degree=3, gamma='auto', kernel='rbf',\n",
      "    max_iter=-1, probability=False, random_state=None, shrinking=True,\n",
      "    tol=0.001, verbose=False)\n",
      "0.9309173272933182\n",
      "[[362   4   9   2   0]\n",
      " [  5 312   2   2   6]\n",
      " [  6   0 291  16   0]\n",
      " [  2   2  15 415  14]\n",
      " [  0  14   1  22 264]]\n",
      "0.9361096658614663\n"
     ]
    }
   ],
   "source": [
    "from sklearn.model_selection import train_test_split, cross_val_score\n",
    "from sklearn import svm\n",
    "from sklearn import metrics\n",
    "\n",
    "# 70% training and 30% testing\n",
    "X_train, X_test, y_train, y_test = train_test_split(X, Y, test_size = 0.3, random_state = 109)\n",
    "\n",
    "# clf = svm.SVC(kernel = 'linear')\n",
    "clf = svm.SVC(C=10.0, cache_size=200, class_weight=None, coef0=0.0, decision_function_shape=None, degree=3,\n",
    "              gamma='auto', kernel='rbf', max_iter=-1, probability=False, random_state=None, shrinking=True,\n",
    "              tol=0.001, verbose=False)\n",
    "\n",
    "clf.fit(X_train, y_train)\n",
    "\n",
    "print(clf)\n",
    "y_pred = clf.predict(X_test)\n",
    "\n",
    "print(metrics.accuracy_score(y_test, y_pred))\n",
    "print(metrics.confusion_matrix(y_test, y_pred))\n",
    "\n",
    "scores = cross_val_score(clf, X, Y, cv = 5)\n",
    "print(scores.mean())"
   ]
  },
  {
   "cell_type": "markdown",
   "metadata": {},
   "source": [
    "## CBOW"
   ]
  },
  {
   "cell_type": "code",
   "execution_count": 64,
   "metadata": {
    "ExecuteTime": {
     "end_time": "2019-08-21T09:39:33.527723Z",
     "start_time": "2019-08-21T09:39:33.517036Z"
    }
   },
   "outputs": [
    {
     "data": {
      "text/plain": [
       "{}"
      ]
     },
     "execution_count": 64,
     "metadata": {},
     "output_type": "execute_result"
    }
   ],
   "source": [
    "D = {}\n",
    "D"
   ]
  },
  {
   "cell_type": "code",
   "execution_count": 69,
   "metadata": {
    "ExecuteTime": {
     "end_time": "2019-08-21T10:53:37.198347Z",
     "start_time": "2019-08-21T10:50:46.260503Z"
    }
   },
   "outputs": [
    {
     "name": "stderr",
     "output_type": "stream",
     "text": [
      "WARNING:smart_open.smart_open_lib:this function is deprecated, use smart_open.open instead\n"
     ]
    },
    {
     "name": "stdout",
     "output_type": "stream",
     "text": [
      "390106 200\n",
      "\n"
     ]
    },
    {
     "name": "stderr",
     "output_type": "stream",
     "text": [
      "WARNING:smart_open.smart_open_lib:this function is deprecated, use smart_open.open instead\n",
      "WARNING:smart_open.smart_open_lib:this function is deprecated, use smart_open.open instead\n",
      "WARNING:smart_open.smart_open_lib:this function is deprecated, use smart_open.open instead\n"
     ]
    },
    {
     "name": "stdout",
     "output_type": "stream",
     "text": [
      "SVC(C=10.0, cache_size=200, class_weight=None, coef0=0.0,\n",
      "    decision_function_shape=None, degree=3, gamma='auto', kernel='rbf',\n",
      "    max_iter=-1, probability=False, random_state=None, shrinking=True,\n",
      "    tol=0.001, verbose=False)\n",
      "0.9388448471121178\n",
      "[[365   2   9   1   0]\n",
      " [  3 314   2   3   5]\n",
      " [  6   0 292  15   0]\n",
      " [  3   1  12 420  12]\n",
      " [  0  12   1  21 267]]\n",
      "0.9369565433138604\n",
      "0.005501751202785384\n"
     ]
    },
    {
     "data": {
      "text/plain": [
       "{'sim240_spearman': 0.5025686135046619,\n",
       " 'sim297_spearman': 0.5780691034099906,\n",
       " 'ana_capital-common-countries': 0.8379446640316206,\n",
       " 'ana_city-in-state': 0.8285714285714286,\n",
       " 'ana_family': 0.6139705882352942,\n",
       " 'ana_Total accuracy': 0.7722980062959076,\n",
       " 'cls_score_mean': 0.9369565433138604,\n",
       " 'cls_score_2std': 0.005501751202785384}"
      ]
     },
     "execution_count": 69,
     "metadata": {},
     "output_type": "execute_result"
    }
   ],
   "source": [
    "path = 'embeddings/word2vec/word_vec_cb'\n",
    "name = 'base_cb'\n",
    "\n",
    "from fieldembed.keyedvectors import KeyedVectors\n",
    "wv_neg = KeyedVectors.load_word2vec_format(path)\n",
    "evals_result = wv_neg.lexical_evals()\n",
    "docmatrix, labels = convert_document_to_X_and_Y(nlptext, wv_neg)\n",
    "X = docmatrix\n",
    "Y = labels\n",
    "\n",
    "from sklearn.model_selection import train_test_split, cross_val_score\n",
    "from sklearn import svm\n",
    "from sklearn import metrics\n",
    "\n",
    "# 70% training and 30% testing\n",
    "X_train, X_test, y_train, y_test = train_test_split(X, Y, test_size = 0.3, random_state = 109)\n",
    "\n",
    "# clf = svm.SVC(kernel = 'linear')\n",
    "clf = svm.SVC(C=10.0, cache_size=200, class_weight=None, coef0=0.0, decision_function_shape=None, degree=3,\n",
    "              gamma='auto', kernel='rbf', max_iter=-1, probability=False, random_state=None, shrinking=True,\n",
    "              tol=0.001, verbose=False)\n",
    "\n",
    "clf.fit(X_train, y_train)\n",
    "\n",
    "print(clf)\n",
    "y_pred = clf.predict(X_test)\n",
    "\n",
    "print(metrics.accuracy_score(y_test, y_pred))\n",
    "print(metrics.confusion_matrix(y_test, y_pred))\n",
    "\n",
    "scores = cross_val_score(clf, X, Y, cv = 5)\n",
    "print(scores.mean())\n",
    "print(scores.std() * 2)\n",
    "\n",
    "evals_result['cls_score_mean'] = scores.mean()\n",
    "evals_result['cls_score_2std'] = scores.std() * 2\n",
    "D[name] = evals_result\n",
    "evals_result"
   ]
  },
  {
   "cell_type": "markdown",
   "metadata": {},
   "source": [
    "## Skip-Gram"
   ]
  },
  {
   "cell_type": "code",
   "execution_count": 71,
   "metadata": {
    "ExecuteTime": {
     "end_time": "2019-08-21T12:55:20.528974Z",
     "start_time": "2019-08-21T12:52:22.920620Z"
    }
   },
   "outputs": [
    {
     "name": "stderr",
     "output_type": "stream",
     "text": [
      "WARNING:smart_open.smart_open_lib:this function is deprecated, use smart_open.open instead\n"
     ]
    },
    {
     "name": "stdout",
     "output_type": "stream",
     "text": [
      "390106 200\n",
      "\n"
     ]
    },
    {
     "name": "stderr",
     "output_type": "stream",
     "text": [
      "WARNING:smart_open.smart_open_lib:this function is deprecated, use smart_open.open instead\n",
      "WARNING:smart_open.smart_open_lib:this function is deprecated, use smart_open.open instead\n",
      "WARNING:smart_open.smart_open_lib:this function is deprecated, use smart_open.open instead\n"
     ]
    },
    {
     "name": "stdout",
     "output_type": "stream",
     "text": [
      "SVC(C=10.0, cache_size=200, class_weight=None, coef0=0.0,\n",
      "    decision_function_shape=None, degree=3, gamma='auto', kernel='rbf',\n",
      "    max_iter=-1, probability=False, random_state=None, shrinking=True,\n",
      "    tol=0.001, verbose=False)\n",
      "0.8725934314835787\n",
      "[[344   9  11  13   0]\n",
      " [  9 291   2  20   5]\n",
      " [  4   0 292  17   0]\n",
      " [  3   2  28 403  12]\n",
      " [  1  24   2  63 211]]\n",
      "0.8835977350327704\n",
      "0.009534433012110214\n"
     ]
    },
    {
     "data": {
      "text/plain": [
       "{'sim240_spearman': 0.542354421841409,\n",
       " 'sim297_spearman': 0.6049056145586297,\n",
       " 'ana_capital-common-countries': 0.8853754940711462,\n",
       " 'ana_city-in-state': 0.8971428571428571,\n",
       " 'ana_family': 0.5735294117647058,\n",
       " 'ana_Total accuracy': 0.7985309548793285,\n",
       " 'cls_score_mean': 0.8835977350327704,\n",
       " 'cls_score_2std': 0.009534433012110214}"
      ]
     },
     "execution_count": 71,
     "metadata": {},
     "output_type": "execute_result"
    }
   ],
   "source": [
    "path = 'embeddings/word2vec/word_vec_sg'\n",
    "name = 'base_sg'\n",
    "\n",
    "from fieldembed.keyedvectors import KeyedVectors\n",
    "wv_neg = KeyedVectors.load_word2vec_format(path)\n",
    "evals_result = wv_neg.lexical_evals()\n",
    "docmatrix, labels = convert_document_to_X_and_Y(nlptext, wv_neg)\n",
    "X = docmatrix\n",
    "Y = labels\n",
    "\n",
    "from sklearn.model_selection import train_test_split, cross_val_score\n",
    "from sklearn import svm\n",
    "from sklearn import metrics\n",
    "\n",
    "# 70% training and 30% testing\n",
    "X_train, X_test, y_train, y_test = train_test_split(X, Y, test_size = 0.3, random_state = 109)\n",
    "\n",
    "# clf = svm.SVC(kernel = 'linear')\n",
    "clf = svm.SVC(C=10.0, cache_size=200, class_weight=None, coef0=0.0, decision_function_shape=None, degree=3,\n",
    "              gamma='auto', kernel='rbf', max_iter=-1, probability=False, random_state=None, shrinking=True,\n",
    "              tol=0.001, verbose=False)\n",
    "\n",
    "clf.fit(X_train, y_train)\n",
    "\n",
    "print(clf)\n",
    "y_pred = clf.predict(X_test)\n",
    "\n",
    "print(metrics.accuracy_score(y_test, y_pred))\n",
    "print(metrics.confusion_matrix(y_test, y_pred))\n",
    "\n",
    "scores = cross_val_score(clf, X, Y, cv = 5)\n",
    "print(scores.mean())\n",
    "print(scores.std() * 2)\n",
    "\n",
    "evals_result['cls_score_mean'] = scores.mean()\n",
    "evals_result['cls_score_2std'] = scores.std() * 2\n",
    "D[name] = evals_result\n",
    "evals_result"
   ]
  },
  {
   "cell_type": "markdown",
   "metadata": {},
   "source": [
    "## JWE"
   ]
  },
  {
   "cell_type": "code",
   "execution_count": 89,
   "metadata": {
    "ExecuteTime": {
     "end_time": "2019-08-22T01:30:21.227091Z",
     "start_time": "2019-08-22T01:28:44.047683Z"
    }
   },
   "outputs": [
    {
     "name": "stderr",
     "output_type": "stream",
     "text": [
      "WARNING:smart_open.smart_open_lib:this function is deprecated, use smart_open.open instead\n"
     ]
    },
    {
     "name": "stdout",
     "output_type": "stream",
     "text": [
      "390106 200\n",
      "\n"
     ]
    },
    {
     "name": "stderr",
     "output_type": "stream",
     "text": [
      "WARNING:smart_open.smart_open_lib:this function is deprecated, use smart_open.open instead\n",
      "WARNING:smart_open.smart_open_lib:this function is deprecated, use smart_open.open instead\n",
      "WARNING:smart_open.smart_open_lib:this function is deprecated, use smart_open.open instead\n"
     ]
    },
    {
     "name": "stdout",
     "output_type": "stream",
     "text": [
      "SVC(C=10.0, cache_size=200, class_weight=None, coef0=0.0,\n",
      "    decision_function_shape=None, degree=3, gamma='auto', kernel='rbf',\n",
      "    max_iter=-1, probability=False, random_state=None, shrinking=True,\n",
      "    tol=0.001, verbose=False)\n",
      "0.912797281993205\n",
      "[[353  11   8   5   0]\n",
      " [  6 308   2   6   5]\n",
      " [  7   0 289  17   0]\n",
      " [  4   2  17 409  16]\n",
      " [  0  19   1  28 253]]\n",
      "0.9155475917526074\n",
      "0.006865086097689862\n"
     ]
    },
    {
     "data": {
      "text/plain": [
       "{'sim240_spearman': 0.5372673026102034,\n",
       " 'sim297_spearman': 0.6510196788483026,\n",
       " 'ana_capital-common-countries': 0.7529644268774703,\n",
       " 'ana_city-in-state': 0.7942857142857143,\n",
       " 'ana_family': 0.5992647058823529,\n",
       " 'ana_Total accuracy': 0.7166841552990556,\n",
       " 'cls_score_mean': 0.9155475917526074,\n",
       " 'cls_score_2std': 0.006865086097689862}"
      ]
     },
     "execution_count": 89,
     "metadata": {},
     "output_type": "execute_result"
    }
   ],
   "source": [
    "path = 'embeddings/jwe/word_vec'\n",
    "name = 'base_jwe'\n",
    "\n",
    "from fieldembed.keyedvectors import KeyedVectors\n",
    "wv_neg = KeyedVectors.load_word2vec_format(path)\n",
    "evals_result = wv_neg.lexical_evals()\n",
    "docmatrix, labels = convert_document_to_X_and_Y(nlptext, wv_neg)\n",
    "X = docmatrix\n",
    "Y = labels\n",
    "\n",
    "from sklearn.model_selection import train_test_split, cross_val_score\n",
    "from sklearn import svm\n",
    "from sklearn import metrics\n",
    "\n",
    "# 70% training and 30% testing\n",
    "X_train, X_test, y_train, y_test = train_test_split(X, Y, test_size = 0.3, random_state = 109)\n",
    "\n",
    "# clf = svm.SVC(kernel = 'linear')\n",
    "clf = svm.SVC(C=10.0, cache_size=200, class_weight=None, coef0=0.0, decision_function_shape=None, degree=3,\n",
    "              gamma='auto', kernel='rbf', max_iter=-1, probability=False, random_state=None, shrinking=True,\n",
    "              tol=0.001, verbose=False)\n",
    "\n",
    "clf.fit(X_train, y_train)\n",
    "\n",
    "print(clf)\n",
    "y_pred = clf.predict(X_test)\n",
    "\n",
    "print(metrics.accuracy_score(y_test, y_pred))\n",
    "print(metrics.confusion_matrix(y_test, y_pred))\n",
    "\n",
    "scores = cross_val_score(clf, X, Y, cv = 5)\n",
    "print(scores.mean())\n",
    "print(scores.std() * 2)\n",
    "\n",
    "evals_result['cls_score_mean'] = scores.mean()\n",
    "evals_result['cls_score_2std'] = scores.std() * 2\n",
    "D[name] = evals_result\n",
    "evals_result"
   ]
  },
  {
   "cell_type": "code",
   "execution_count": 90,
   "metadata": {
    "ExecuteTime": {
     "end_time": "2019-08-22T01:30:21.232635Z",
     "start_time": "2019-08-22T01:30:21.228430Z"
    }
   },
   "outputs": [
    {
     "data": {
      "text/plain": [
       "{'sim240_spearman': 0.5601079141506247,\n",
       " 'sim297_spearman': 0.6526441917534458,\n",
       " 'ana_capital-common-countries': 0.758893280632411,\n",
       " 'ana_city-in-state': 0.8971428571428571,\n",
       " 'ana_family': 0.5735294117647058,\n",
       " 'ana_Total accuracy': 0.7313746065057712,\n",
       " 'cls_score_mean': 0.9155470132926368,\n",
       " 'cls_score_2std': 0.007761698426804199}"
      ]
     },
     "execution_count": 90,
     "metadata": {},
     "output_type": "execute_result"
    }
   ],
   "source": [
    "{'sim240_spearman': 0.5601079141506247,\n",
    " 'sim297_spearman': 0.6526441917534458,\n",
    " 'ana_capital-common-countries': 0.758893280632411,\n",
    " 'ana_city-in-state': 0.8971428571428571,\n",
    " 'ana_family': 0.5735294117647058,\n",
    " 'ana_Total accuracy': 0.7313746065057712,\n",
    " 'cls_score_mean': 0.9155470132926368,\n",
    " 'cls_score_2std': 0.007761698426804199}"
   ]
  },
  {
   "cell_type": "markdown",
   "metadata": {},
   "source": [
    "## Token Subcomp Pinyin"
   ]
  },
  {
   "cell_type": "code",
   "execution_count": 77,
   "metadata": {
    "ExecuteTime": {
     "end_time": "2019-08-22T01:20:14.590319Z",
     "start_time": "2019-08-22T01:19:59.060846Z"
    }
   },
   "outputs": [
    {
     "name": "stderr",
     "output_type": "stream",
     "text": [
      "WARNING:smart_open.smart_open_lib:this function is deprecated, use smart_open.open instead\n"
     ]
    }
   ],
   "source": [
    "path = 'embeddings/fieldembed/WikiChinese/word/token_subcomp_pinyin/200'\n",
    "name = 'WScP'\n",
    "\n",
    "from fieldembed import FieldEmbedding\n",
    "\n",
    "fldembed = FieldEmbedding.load(path)\n",
    "wv_neg = fldembed.wv_neg\n"
   ]
  },
  {
   "cell_type": "code",
   "execution_count": 83,
   "metadata": {
    "ExecuteTime": {
     "end_time": "2019-08-22T01:21:50.058940Z",
     "start_time": "2019-08-22T01:21:50.054609Z"
    }
   },
   "outputs": [],
   "source": [
    "wv_neg.set_GU_and_TU()"
   ]
  },
  {
   "cell_type": "code",
   "execution_count": 84,
   "metadata": {
    "ExecuteTime": {
     "end_time": "2019-08-22T01:21:50.218189Z",
     "start_time": "2019-08-22T01:21:50.215101Z"
    }
   },
   "outputs": [],
   "source": [
    "wv_neg.TU"
   ]
  },
  {
   "cell_type": "code",
   "execution_count": 85,
   "metadata": {
    "ExecuteTime": {
     "end_time": "2019-08-22T01:22:38.108766Z",
     "start_time": "2019-08-22T01:21:50.393664Z"
    }
   },
   "outputs": [
    {
     "name": "stderr",
     "output_type": "stream",
     "text": [
      "WARNING:smart_open.smart_open_lib:this function is deprecated, use smart_open.open instead\n",
      "WARNING:smart_open.smart_open_lib:this function is deprecated, use smart_open.open instead\n",
      "WARNING:smart_open.smart_open_lib:this function is deprecated, use smart_open.open instead\n"
     ]
    },
    {
     "name": "stdout",
     "output_type": "stream",
     "text": [
      "SVC(C=10.0, cache_size=200, class_weight=None, coef0=0.0,\n",
      "    decision_function_shape=None, degree=3, gamma='auto', kernel='rbf',\n",
      "    max_iter=-1, probability=False, random_state=None, shrinking=True,\n",
      "    tol=0.001, verbose=False)\n",
      "0.920158550396376\n",
      "[[361   6   9   1   0]\n",
      " [  5 310   1   5   6]\n",
      " [  5   0 287  21   0]\n",
      " [  2   2  13 416  15]\n",
      " [  0  21   0  29 251]]\n",
      "0.9216661480152399\n",
      "0.005572252791890109\n"
     ]
    },
    {
     "data": {
      "text/plain": [
       "{'sim240_spearman': 0.49489222354673823,\n",
       " 'sim297_spearman': 0.5897586893843983,\n",
       " 'ana_capital-common-countries': 0.7924901185770751,\n",
       " 'ana_city-in-state': 0.8,\n",
       " 'ana_family': 0.5698529411764706,\n",
       " 'ana_Total accuracy': 0.7303252885624344,\n",
       " 'cls_score_mean': 0.9216661480152399,\n",
       " 'cls_score_2std': 0.005572252791890109}"
      ]
     },
     "execution_count": 85,
     "metadata": {},
     "output_type": "execute_result"
    }
   ],
   "source": [
    "evals_result = wv_neg.lexical_evals()\n",
    "docmatrix, labels = convert_document_to_X_and_Y(nlptext, wv_neg)\n",
    "X = docmatrix\n",
    "Y = labels\n",
    "\n",
    "from sklearn.model_selection import train_test_split, cross_val_score\n",
    "from sklearn import svm\n",
    "from sklearn import metrics\n",
    "\n",
    "# 70% training and 30% testing\n",
    "X_train, X_test, y_train, y_test = train_test_split(X, Y, test_size = 0.3, random_state = 109)\n",
    "\n",
    "# clf = svm.SVC(kernel = 'linear')\n",
    "clf = svm.SVC(C=10.0, cache_size=200, class_weight=None, coef0=0.0, decision_function_shape=None, degree=3,\n",
    "              gamma='auto', kernel='rbf', max_iter=-1, probability=False, random_state=None, shrinking=True,\n",
    "              tol=0.001, verbose=False)\n",
    "\n",
    "clf.fit(X_train, y_train)\n",
    "\n",
    "print(clf)\n",
    "y_pred = clf.predict(X_test)\n",
    "\n",
    "print(metrics.accuracy_score(y_test, y_pred))\n",
    "print(metrics.confusion_matrix(y_test, y_pred))\n",
    "\n",
    "scores = cross_val_score(clf, X, Y, cv = 5)\n",
    "print(scores.mean())\n",
    "print(scores.std() * 2)\n",
    "\n",
    "evals_result['cls_score_mean'] = scores.mean()\n",
    "evals_result['cls_score_2std'] = scores.std() * 2\n",
    "D[name] = evals_result\n",
    "evals_result"
   ]
  },
  {
   "cell_type": "code",
   "execution_count": 87,
   "metadata": {
    "ExecuteTime": {
     "end_time": "2019-08-22T01:23:59.090877Z",
     "start_time": "2019-08-22T01:23:03.515759Z"
    }
   },
   "outputs": [
    {
     "name": "stderr",
     "output_type": "stream",
     "text": [
      "WARNING:smart_open.smart_open_lib:this function is deprecated, use smart_open.open instead\n",
      "WARNING:smart_open.smart_open_lib:this function is deprecated, use smart_open.open instead\n",
      "WARNING:smart_open.smart_open_lib:this function is deprecated, use smart_open.open instead\n",
      "WARNING:smart_open.smart_open_lib:this function is deprecated, use smart_open.open instead\n"
     ]
    },
    {
     "name": "stdout",
     "output_type": "stream",
     "text": [
      "SVC(C=10.0, cache_size=200, class_weight=None, coef0=0.0,\n",
      "    decision_function_shape=None, degree=3, gamma='auto', kernel='rbf',\n",
      "    max_iter=-1, probability=False, random_state=None, shrinking=True,\n",
      "    tol=0.001, verbose=False)\n",
      "0.9020385050962627\n",
      "[[350   7   9  10   1]\n",
      " [  7 308   2   5   5]\n",
      " [  8   0 287  18   0]\n",
      " [  2   1  17 410  18]\n",
      " [  0  26   0  37 238]]\n",
      "0.910107720140554\n",
      "0.006274966193246377\n"
     ]
    },
    {
     "data": {
      "text/plain": [
       "{'sim240_spearman': 0.5105737718386821,\n",
       " 'sim297_spearman': 0.5998599825194435,\n",
       " 'ana_capital-common-countries': 0.8122529644268774,\n",
       " 'ana_city-in-state': 0.7885714285714286,\n",
       " 'ana_family': 0.5441176470588235,\n",
       " 'ana_Total accuracy': 0.7313746065057712,\n",
       " 'cls_score_mean': 0.910107720140554,\n",
       " 'cls_score_2std': 0.006274966193246377}"
      ]
     },
     "execution_count": 87,
     "metadata": {},
     "output_type": "execute_result"
    }
   ],
   "source": [
    "path = 'embeddings/fieldembed/WikiChinese/word/token/200'\n",
    "name = 'W'\n",
    "\n",
    "from fieldembed import FieldEmbedding\n",
    "\n",
    "fldembed = FieldEmbedding.load(path)\n",
    "wv_neg = fldembed.wv_neg\n",
    "\n",
    "evals_result = wv_neg.lexical_evals()\n",
    "docmatrix, labels = convert_document_to_X_and_Y(nlptext, wv_neg)\n",
    "X = docmatrix\n",
    "Y = labels\n",
    "\n",
    "from sklearn.model_selection import train_test_split, cross_val_score\n",
    "from sklearn import svm\n",
    "from sklearn import metrics\n",
    "\n",
    "# 70% training and 30% testing\n",
    "X_train, X_test, y_train, y_test = train_test_split(X, Y, test_size = 0.3, random_state = 109)\n",
    "\n",
    "# clf = svm.SVC(kernel = 'linear')\n",
    "clf = svm.SVC(C=10.0, cache_size=200, class_weight=None, coef0=0.0, decision_function_shape=None, degree=3,\n",
    "              gamma='auto', kernel='rbf', max_iter=-1, probability=False, random_state=None, shrinking=True,\n",
    "              tol=0.001, verbose=False)\n",
    "\n",
    "clf.fit(X_train, y_train)\n",
    "\n",
    "print(clf)\n",
    "y_pred = clf.predict(X_test)\n",
    "\n",
    "print(metrics.accuracy_score(y_test, y_pred))\n",
    "print(metrics.confusion_matrix(y_test, y_pred))\n",
    "\n",
    "scores = cross_val_score(clf, X, Y, cv = 5)\n",
    "print(scores.mean())\n",
    "print(scores.std() * 2)\n",
    "\n",
    "evals_result['cls_score_mean'] = scores.mean()\n",
    "evals_result['cls_score_2std'] = scores.std() * 2\n",
    "D[name] = evals_result\n",
    "evals_result"
   ]
  },
  {
   "cell_type": "code",
   "execution_count": 94,
   "metadata": {
    "ExecuteTime": {
     "end_time": "2019-08-22T01:42:05.913955Z",
     "start_time": "2019-08-22T01:40:55.511567Z"
    }
   },
   "outputs": [
    {
     "name": "stderr",
     "output_type": "stream",
     "text": [
      "WARNING:smart_open.smart_open_lib:this function is deprecated, use smart_open.open instead\n",
      "WARNING:smart_open.smart_open_lib:this function is deprecated, use smart_open.open instead\n",
      "WARNING:smart_open.smart_open_lib:this function is deprecated, use smart_open.open instead\n",
      "WARNING:smart_open.smart_open_lib:this function is deprecated, use smart_open.open instead\n"
     ]
    },
    {
     "name": "stdout",
     "output_type": "stream",
     "text": [
      "SVC(C=10.0, cache_size=200, class_weight=None, coef0=0.0,\n",
      "    decision_function_shape=None, degree=3, gamma='auto', kernel='rbf',\n",
      "    max_iter=-1, probability=False, random_state=None, shrinking=True,\n",
      "    tol=0.001, verbose=False)\n",
      "0.9116647791619479\n",
      "[[358   7   9   3   0]\n",
      " [  5 310   2   3   7]\n",
      " [  9   0 284  20   0]\n",
      " [  4   1  17 409  17]\n",
      " [  0  22   0  30 249]]\n",
      "0.9186040558276707\n",
      "0.006157353876534347\n"
     ]
    },
    {
     "data": {
      "text/plain": [
       "{'sim240_spearman': 0.4869464017511846,\n",
       " 'sim297_spearman': 0.591229623148572,\n",
       " 'ana_capital-common-countries': 0.7944664031620553,\n",
       " 'ana_city-in-state': 0.8171428571428572,\n",
       " 'ana_family': 0.5845588235294118,\n",
       " 'ana_Total accuracy': 0.7387198321091291,\n",
       " 'cls_score_mean': 0.9186040558276707,\n",
       " 'cls_score_2std': 0.006157353876534347}"
      ]
     },
     "execution_count": 94,
     "metadata": {},
     "output_type": "execute_result"
    }
   ],
   "source": [
    "path = 'embeddings/fieldembed/WikiChinese/word/token_pinyin/200'\n",
    "name = 'WP'\n",
    "\n",
    "from fieldembed import FieldEmbedding\n",
    "\n",
    "fldembed = FieldEmbedding.load(path)\n",
    "wv_neg = fldembed.wv_neg\n",
    "\n",
    "evals_result = wv_neg.lexical_evals()\n",
    "docmatrix, labels = convert_document_to_X_and_Y(nlptext, wv_neg)\n",
    "X = docmatrix\n",
    "Y = labels\n",
    "\n",
    "from sklearn.model_selection import train_test_split, cross_val_score\n",
    "from sklearn import svm\n",
    "from sklearn import metrics\n",
    "\n",
    "# 70% training and 30% testing\n",
    "X_train, X_test, y_train, y_test = train_test_split(X, Y, test_size = 0.3, random_state = 109)\n",
    "\n",
    "# clf = svm.SVC(kernel = 'linear')\n",
    "clf = svm.SVC(C=10.0, cache_size=200, class_weight=None, coef0=0.0, decision_function_shape=None, degree=3,\n",
    "              gamma='auto', kernel='rbf', max_iter=-1, probability=False, random_state=None, shrinking=True,\n",
    "              tol=0.001, verbose=False)\n",
    "\n",
    "clf.fit(X_train, y_train)\n",
    "\n",
    "print(clf)\n",
    "y_pred = clf.predict(X_test)\n",
    "\n",
    "print(metrics.accuracy_score(y_test, y_pred))\n",
    "print(metrics.confusion_matrix(y_test, y_pred))\n",
    "\n",
    "scores = cross_val_score(clf, X, Y, cv = 5)\n",
    "print(scores.mean())\n",
    "print(scores.std() * 2)\n",
    "\n",
    "evals_result['cls_score_mean'] = scores.mean()\n",
    "evals_result['cls_score_2std'] = scores.std() * 2\n",
    "D[name] = evals_result\n",
    "evals_result"
   ]
  },
  {
   "cell_type": "code",
   "execution_count": null,
   "metadata": {},
   "outputs": [],
   "source": [
    "path = 'embeddings/fieldembed/WikiChinese/word/token_pinyin/200'\n",
    "name = 'WP'\n",
    "\n",
    "from fieldembed import FieldEmbedding\n",
    "\n",
    "fldembed = FieldEmbedding.load(path)\n",
    "wv_neg = fldembed.wv_neg\n",
    "\n",
    "evals_result = wv_neg.lexical_evals()\n",
    "docmatrix, labels = convert_document_to_X_and_Y(nlptext, wv_neg)\n",
    "X = docmatrix\n",
    "Y = labels\n",
    "\n",
    "from sklearn.model_selection import train_test_split, cross_val_score\n",
    "from sklearn import svm\n",
    "from sklearn import metrics\n",
    "\n",
    "# 70% training and 30% testing\n",
    "X_train, X_test, y_train, y_test = train_test_split(X, Y, test_size = 0.3, random_state = 109)\n",
    "\n",
    "# clf = svm.SVC(kernel = 'linear')\n",
    "clf = svm.SVC(C=10.0, cache_size=200, class_weight=None, coef0=0.0, decision_function_shape=None, degree=3,\n",
    "              gamma='auto', kernel='rbf', max_iter=-1, probability=False, random_state=None, shrinking=True,\n",
    "              tol=0.001, verbose=False)\n",
    "\n",
    "clf.fit(X_train, y_train)\n",
    "\n",
    "print(clf)\n",
    "y_pred = clf.predict(X_test)\n",
    "\n",
    "print(metrics.accuracy_score(y_test, y_pred))\n",
    "print(metrics.confusion_matrix(y_test, y_pred))\n",
    "\n",
    "scores = cross_val_score(clf, X, Y, cv = 5)\n",
    "print(scores.mean())\n",
    "print(scores.std() * 2)\n",
    "\n",
    "evals_result['cls_score_mean'] = scores.mean()\n",
    "evals_result['cls_score_2std'] = scores.std() * 2\n",
    "D[name] = evals_result\n",
    "evals_result"
   ]
  },
  {
   "cell_type": "markdown",
   "metadata": {},
   "source": [
    "## All"
   ]
  },
  {
   "cell_type": "code",
   "execution_count": null,
   "metadata": {},
   "outputs": [],
   "source": [
    "{'sim240_spearman': 0.49489222354673823,\n",
    " 'sim297_spearman': 0.5897586893843983,\n",
    " 'ana_capital-common-countries': 0.7924901185770751,\n",
    " 'ana_city-in-state': 0.8,\n",
    " 'ana_family': 0.5698529411764706,\n",
    " 'ana_Total accuracy': 0.7303252885624344,\n",
    " 'cls_score_mean': 0.9216661480152399,\n",
    " 'cls_score_2std': 0.005572252791890109}\n",
    "\n",
    "{'sim240_spearman': 0.5105737718386821,\n",
    " 'sim297_spearman': 0.5998599825194435,\n",
    " 'ana_capital-common-countries': 0.8122529644268774,\n",
    " 'ana_city-in-state': 0.7885714285714286,\n",
    " 'ana_family': 0.5441176470588235,\n",
    " 'ana_Total accuracy': 0.7313746065057712,\n",
    " 'cls_score_mean': 0.910107720140554,\n",
    " 'cls_score_2std': 0.006274966193246377}"
   ]
  },
  {
   "cell_type": "code",
   "execution_count": 93,
   "metadata": {
    "ExecuteTime": {
     "end_time": "2019-08-22T01:35:08.812290Z",
     "start_time": "2019-08-22T01:35:08.800054Z"
    }
   },
   "outputs": [
    {
     "data": {
      "text/html": [
       "<div>\n",
       "<style scoped>\n",
       "    .dataframe tbody tr th:only-of-type {\n",
       "        vertical-align: middle;\n",
       "    }\n",
       "\n",
       "    .dataframe tbody tr th {\n",
       "        vertical-align: top;\n",
       "    }\n",
       "\n",
       "    .dataframe thead th {\n",
       "        text-align: right;\n",
       "    }\n",
       "</style>\n",
       "<table border=\"1\" class=\"dataframe\">\n",
       "  <thead>\n",
       "    <tr style=\"text-align: right;\">\n",
       "      <th></th>\n",
       "      <th>sim240_spearman</th>\n",
       "      <th>sim297_spearman</th>\n",
       "      <th>ana_Total accuracy</th>\n",
       "      <th>cls_score_mean</th>\n",
       "    </tr>\n",
       "  </thead>\n",
       "  <tbody>\n",
       "    <tr>\n",
       "      <th>base_cb</th>\n",
       "      <td>0.502569</td>\n",
       "      <td>0.578069</td>\n",
       "      <td>0.772298</td>\n",
       "      <td>0.936957</td>\n",
       "    </tr>\n",
       "    <tr>\n",
       "      <th>base_sg</th>\n",
       "      <td>0.542354</td>\n",
       "      <td>0.604906</td>\n",
       "      <td>0.798531</td>\n",
       "      <td>0.883598</td>\n",
       "    </tr>\n",
       "    <tr>\n",
       "      <th>base_jwe</th>\n",
       "      <td>0.537267</td>\n",
       "      <td>0.651020</td>\n",
       "      <td>0.716684</td>\n",
       "      <td>0.915548</td>\n",
       "    </tr>\n",
       "    <tr>\n",
       "      <th>WScP</th>\n",
       "      <td>0.494892</td>\n",
       "      <td>0.589759</td>\n",
       "      <td>0.730325</td>\n",
       "      <td>0.921666</td>\n",
       "    </tr>\n",
       "    <tr>\n",
       "      <th>W</th>\n",
       "      <td>0.510574</td>\n",
       "      <td>0.599860</td>\n",
       "      <td>0.731375</td>\n",
       "      <td>0.910108</td>\n",
       "    </tr>\n",
       "    <tr>\n",
       "      <th>WC</th>\n",
       "      <td>0.486946</td>\n",
       "      <td>0.591230</td>\n",
       "      <td>0.738720</td>\n",
       "      <td>0.918604</td>\n",
       "    </tr>\n",
       "  </tbody>\n",
       "</table>\n",
       "</div>"
      ],
      "text/plain": [
       "          sim240_spearman  sim297_spearman  ana_Total accuracy  cls_score_mean\n",
       "base_cb          0.502569         0.578069            0.772298        0.936957\n",
       "base_sg          0.542354         0.604906            0.798531        0.883598\n",
       "base_jwe         0.537267         0.651020            0.716684        0.915548\n",
       "WScP             0.494892         0.589759            0.730325        0.921666\n",
       "W                0.510574         0.599860            0.731375        0.910108\n",
       "WC               0.486946         0.591230            0.738720        0.918604"
      ]
     },
     "execution_count": 93,
     "metadata": {},
     "output_type": "execute_result"
    }
   ],
   "source": [
    "import pandas as pd\n",
    "\n",
    "pd.DataFrame(D).T[['sim240_spearman', 'sim297_spearman', 'ana_Total accuracy', 'cls_score_mean']]"
   ]
  },
  {
   "cell_type": "markdown",
   "metadata": {},
   "source": [
    "# Eval Grain Embedding"
   ]
  },
  {
   "cell_type": "code",
   "execution_count": null,
   "metadata": {},
   "outputs": [],
   "source": []
  }
 ],
 "metadata": {
  "kernelspec": {
   "display_name": "Python 3",
   "language": "python",
   "name": "python3"
  },
  "language_info": {
   "codemirror_mode": {
    "name": "ipython",
    "version": 3
   },
   "file_extension": ".py",
   "mimetype": "text/x-python",
   "name": "python",
   "nbconvert_exporter": "python",
   "pygments_lexer": "ipython3",
   "version": "3.7.3"
  },
  "toc": {
   "base_numbering": 1,
   "nav_menu": {},
   "number_sections": true,
   "sideBar": true,
   "skip_h1_title": false,
   "title_cell": "Table of Contents",
   "title_sidebar": "Contents",
   "toc_cell": false,
   "toc_position": {},
   "toc_section_display": true,
   "toc_window_display": true
  }
 },
 "nbformat": 4,
 "nbformat_minor": 2
}
